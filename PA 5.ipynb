{
 "cells": [
  {
   "cell_type": "markdown",
   "id": "5b564476",
   "metadata": {},
   "source": [
    "# PA 5\n",
    "### Zane Brown Cs-150-01"
   ]
  },
  {
   "cell_type": "code",
   "execution_count": 11,
   "id": "48ea3e67",
   "metadata": {},
   "outputs": [
    {
     "name": "stdout",
     "output_type": "stream",
     "text": [
      "Enter a word to translate from English to Spanish. (Enter 0 to stop): poor\n",
      "The Spanish word for  POOR  is not in this dictionary.\n",
      "Enter a word to translate from English to Spanish. (Enter 0 to stop): dog\n",
      "The spanish word is  perro\n",
      "Enter a word to translate from English to Spanish. (Enter 0 to stop): mother\n",
      "The spanish word is  madre\n",
      "Enter a word to translate from English to Spanish. (Enter 0 to stop): mom\n",
      "The Spanish word for  MOM  is not in this dictionary.\n",
      "Enter a word to translate from English to Spanish. (Enter 0 to stop): food\n",
      "The Spanish word for  FOOD  is not in this dictionary.\n",
      "Enter a word to translate from English to Spanish. (Enter 0 to stop): \n",
      "The Spanish word for    is not in this dictionary.\n",
      "Enter a word to translate from English to Spanish. (Enter 0 to stop): 0\n"
     ]
    }
   ],
   "source": [
    "Span={'dog':'perro',\n",
    "     'boat':'barco',\n",
    "     'cat':'gata',\n",
    "     'ball':'bola',\n",
    "     'house':'casa',\n",
    "     'hand':'mano',\n",
    "     'chair':'silla',\n",
    "     'table':'mesa',\n",
    "     'shirt':'camissa',\n",
    "     'pants':'pantalones',\n",
    "     'shoes':'zapatos',\n",
    "     'job':'trabajo',\n",
    "     'beer':'cerveza',\n",
    "     'truck':'camion',\n",
    "     'father':'padre',\n",
    "     'mother':'madre',\n",
    "     'window':'ventana',\n",
    "     'door':'peurta',\n",
    "     'phone':'telefono',\n",
    "     'cup':'taza'}\n",
    "x=str(input(\"Enter a word to translate from English to Spanish. (Enter 0 to stop): \"))\n",
    "while x!=\"0\":\n",
    "    if x in Span.keys():\n",
    "        print(\"The spanish word is \",Span.get(x))\n",
    "        x=str(input(\"Enter a word to translate from English to Spanish. (Enter 0 to stop): \"))\n",
    "    else:\n",
    "        print(\"The Spanish word for \",x.upper(),\" is not in this dictionary.\")\n",
    "        x=str(input(\"Enter a word to translate from English to Spanish. (Enter 0 to stop): \"))"
   ]
  },
  {
   "cell_type": "code",
   "execution_count": 22,
   "id": "e45273e5",
   "metadata": {},
   "outputs": [
    {
     "name": "stdout",
     "output_type": "stream",
     "text": [
      "-17.22 ^C -16.67 ^C -16.11 ^C -15.56 ^C -15.00 ^C -14.44 ^C -13.89 ^C -13.33 ^C -12.78 ^C -12.22 ^C -11.67 ^C -11.11 ^C -10.56 ^C -10.00 ^C -9.44 ^C -8.89 ^C -8.33 ^C -7.78 ^C -7.22 ^C -6.67 ^C -6.11 ^C -5.56 ^C -5.00 ^C -4.44 ^C -3.89 ^C -3.33 ^C -2.78 ^C -2.22 ^C -1.67 ^C -1.11 ^C "
     ]
    }
   ],
   "source": [
    "temps={1:85,2:83,3:84,4:84,5:82,\n",
    "       6:87,7:86,8:85,9:81,10:82,11:84,12:87,13:89,14:89,15:84,\n",
    "       16:85,17:89,18:89,19:86,20:78,21:78,22:71,23:71,24:75,\n",
    "       25:74,26:77,27:85,28:87,29:89,30:86}\n",
    "x=temps.values()\n",
    "\n",
    "for keys in temps.keys():\n",
    "    y=(keys-32)*(5/9)\n",
    "    print(f'{y:.2f}','^C',end=' ')"
   ]
  },
  {
   "cell_type": "markdown",
   "id": "2bc8e12a",
   "metadata": {},
   "source": [
    "## "
   ]
  },
  {
   "cell_type": "code",
   "execution_count": 27,
   "id": "a9ef34db",
   "metadata": {},
   "outputs": [
    {
     "ename": "KeyError",
     "evalue": "85",
     "output_type": "error",
     "traceback": [
      "\u001b[1;31m---------------------------------------------------------------------------\u001b[0m",
      "\u001b[1;31mKeyError\u001b[0m                                  Traceback (most recent call last)",
      "\u001b[1;32m<ipython-input-27-fac9d01e4fbd>\u001b[0m in \u001b[0;36m<module>\u001b[1;34m\u001b[0m\n\u001b[0;32m      2\u001b[0m \u001b[0mx2\u001b[0m\u001b[1;33m=\u001b[0m\u001b[0mmin\u001b[0m\u001b[1;33m(\u001b[0m\u001b[0mx1\u001b[0m\u001b[1;33m)\u001b[0m\u001b[1;33m\u001b[0m\u001b[1;33m\u001b[0m\u001b[0m\n\u001b[0;32m      3\u001b[0m \u001b[1;32mfor\u001b[0m \u001b[0mi\u001b[0m \u001b[1;32min\u001b[0m \u001b[0mx1\u001b[0m\u001b[1;33m:\u001b[0m\u001b[1;33m\u001b[0m\u001b[1;33m\u001b[0m\u001b[0m\n\u001b[1;32m----> 4\u001b[1;33m     \u001b[1;32mif\u001b[0m \u001b[0mtemps\u001b[0m\u001b[1;33m[\u001b[0m\u001b[0mi\u001b[0m\u001b[1;33m]\u001b[0m\u001b[1;33m==\u001b[0m\u001b[0mx2\u001b[0m\u001b[1;33m:\u001b[0m\u001b[1;33m\u001b[0m\u001b[1;33m\u001b[0m\u001b[0m\n\u001b[0m\u001b[0;32m      5\u001b[0m         \u001b[0mprint\u001b[0m\u001b[1;33m(\u001b[0m\u001b[0mx\u001b[0m\u001b[1;33m)\u001b[0m\u001b[1;33m\u001b[0m\u001b[1;33m\u001b[0m\u001b[0m\n",
      "\u001b[1;31mKeyError\u001b[0m: 85"
     ]
    }
   ],
   "source": [
    "x=list(temps.values())\n",
    "for keys in temps:\n",
    "    ##I didnt understand how to get this started really Ill ask about it"
   ]
  },
  {
   "cell_type": "markdown",
   "id": "987704b9",
   "metadata": {},
   "source": [
    "1.symmetric difference (^):returns all items that are not in common with both sets"
   ]
  },
  {
   "cell_type": "code",
   "execution_count": 1,
   "id": "f5cc826c",
   "metadata": {},
   "outputs": [
    {
     "data": {
      "text/plain": [
       "{30, 54, 89}"
      ]
     },
     "execution_count": 1,
     "metadata": {},
     "output_type": "execute_result"
    }
   ],
   "source": [
    "setY={12,30,23,44,67}\n",
    "setZ={12,23,54,44,67,89}\n",
    "setY^setZ"
   ]
  },
  {
   "cell_type": "markdown",
   "id": "5934569b",
   "metadata": {},
   "source": [
    "2..isdisjoint():returns True if no items in set A is present in set B"
   ]
  },
  {
   "cell_type": "code",
   "execution_count": 29,
   "id": "71fe5470",
   "metadata": {},
   "outputs": [
    {
     "data": {
      "text/plain": [
       "False"
      ]
     },
     "execution_count": 29,
     "metadata": {},
     "output_type": "execute_result"
    }
   ],
   "source": [
    "setY.isdisjoint(setZ)"
   ]
  },
  {
   "cell_type": "markdown",
   "id": "7f3823b9",
   "metadata": {},
   "source": [
    "3.intersection_update(&=): method removes the items that are not present in both sets"
   ]
  },
  {
   "cell_type": "code",
   "execution_count": 32,
   "id": "3dd7aaa1",
   "metadata": {},
   "outputs": [
    {
     "data": {
      "text/plain": [
       "{12, 23, 44, 67}"
      ]
     },
     "execution_count": 32,
     "metadata": {},
     "output_type": "execute_result"
    }
   ],
   "source": [
    "setY&=setZ\n",
    "setY"
   ]
  },
  {
   "cell_type": "markdown",
   "id": "24ac0313",
   "metadata": {},
   "source": [
    "4.symmetric_difference (^=):returns a set that contains all items from both set but not items that are in both sets\n"
   ]
  },
  {
   "cell_type": "code",
   "execution_count": 4,
   "id": "d8d4d0bf",
   "metadata": {},
   "outputs": [],
   "source": [
    "setY={12,30,23,44,67}\n",
    "setZ={12,23,54,44,67,89}\n"
   ]
  },
  {
   "cell_type": "code",
   "execution_count": 5,
   "id": "3ecf5d05",
   "metadata": {},
   "outputs": [
    {
     "data": {
      "text/plain": [
       "{12, 23, 30, 44, 67}"
      ]
     },
     "execution_count": 5,
     "metadata": {},
     "output_type": "execute_result"
    }
   ],
   "source": [
    "setZ^=setY\n",
    "setY"
   ]
  },
  {
   "cell_type": "markdown",
   "id": "9cbbba4b",
   "metadata": {},
   "source": [
    "remove, discard, and pop"
   ]
  },
  {
   "cell_type": "code",
   "execution_count": 6,
   "id": "bef2f25c",
   "metadata": {},
   "outputs": [
    {
     "data": {
      "text/plain": [
       "{2, 3, 6, 7, 17, 18, 19, 22, 23, 29}"
      ]
     },
     "execution_count": 6,
     "metadata": {},
     "output_type": "execute_result"
    }
   ],
   "source": [
    "import random\n",
    "SetA=set([random.randrange(30)for i in range(10)])\n",
    "SetA"
   ]
  },
  {
   "cell_type": "code",
   "execution_count": 7,
   "id": "18385e9e",
   "metadata": {},
   "outputs": [
    {
     "data": {
      "text/plain": [
       "{2, 3, 6, 7, 17, 19, 22, 23, 29}"
      ]
     },
     "execution_count": 7,
     "metadata": {},
     "output_type": "execute_result"
    }
   ],
   "source": [
    "SetA.remove(18)\n",
    "SetA"
   ]
  },
  {
   "cell_type": "code",
   "execution_count": 8,
   "id": "aeba6b10",
   "metadata": {},
   "outputs": [
    {
     "data": {
      "text/plain": [
       "{3, 6, 7, 17, 19, 22, 23, 29}"
      ]
     },
     "execution_count": 8,
     "metadata": {},
     "output_type": "execute_result"
    }
   ],
   "source": [
    "SetA.pop()\n",
    "SetA"
   ]
  },
  {
   "cell_type": "code",
   "execution_count": 9,
   "id": "e66d3d0a",
   "metadata": {},
   "outputs": [],
   "source": [
    "SetA.discard(54) #no error message"
   ]
  },
  {
   "cell_type": "code",
   "execution_count": null,
   "id": "e4cd9643",
   "metadata": {},
   "outputs": [],
   "source": []
  }
 ],
 "metadata": {
  "kernelspec": {
   "display_name": "Python 3",
   "language": "python",
   "name": "python3"
  },
  "language_info": {
   "codemirror_mode": {
    "name": "ipython",
    "version": 3
   },
   "file_extension": ".py",
   "mimetype": "text/x-python",
   "name": "python",
   "nbconvert_exporter": "python",
   "pygments_lexer": "ipython3",
   "version": "3.8.8"
  }
 },
 "nbformat": 4,
 "nbformat_minor": 5
}
